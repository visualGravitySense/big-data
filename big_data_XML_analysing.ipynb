{
 "cells": [
  {
   "cell_type": "code",
   "execution_count": null,
   "id": "71f72235",
   "metadata": {},
   "outputs": [],
   "source": [
    "# TASK: How to use xml schema for reading XML file format"
   ]
  },
  {
   "cell_type": "code",
   "execution_count": 1,
   "id": "25ea3f9c",
   "metadata": {},
   "outputs": [],
   "source": [
    "# AVAANDMED\n",
    "# https://riigihanked.riik.ee/rhr-web/#/open-data\n",
    "# source https://stackoverflow.com/questions/28259301/how-to-convert-an-xml-file-to-nice-pandas-dataframe"
   ]
  },
  {
   "cell_type": "code",
   "execution_count": 20,
   "id": "1c459ff9",
   "metadata": {},
   "outputs": [],
   "source": [
    "import pandas as pd\n",
    "import xml.etree.ElementTree as ET\n",
    "import io"
   ]
  },
  {
   "cell_type": "code",
   "execution_count": 51,
   "id": "7606faf8",
   "metadata": {},
   "outputs": [
    {
     "data": {
      "text/html": [
       "<div>\n",
       "<style scoped>\n",
       "    .dataframe tbody tr th:only-of-type {\n",
       "        vertical-align: middle;\n",
       "    }\n",
       "\n",
       "    .dataframe tbody tr th {\n",
       "        vertical-align: top;\n",
       "    }\n",
       "\n",
       "    .dataframe thead th {\n",
       "        text-align: right;\n",
       "    }\n",
       "</style>\n",
       "<table border=\"1\" class=\"dataframe\">\n",
       "  <thead>\n",
       "    <tr style=\"text-align: right;\">\n",
       "      <th></th>\n",
       "      <th>id</th>\n",
       "      <th>name</th>\n",
       "    </tr>\n",
       "  </thead>\n",
       "  <tbody>\n",
       "    <tr>\n",
       "      <th>0</th>\n",
       "      <td>0</td>\n",
       "      <td>All Categories</td>\n",
       "    </tr>\n",
       "    <tr>\n",
       "      <th>1</th>\n",
       "      <td>13</td>\n",
       "      <td>RealEstate.com.au [H]</td>\n",
       "    </tr>\n",
       "  </tbody>\n",
       "</table>\n",
       "</div>"
      ],
      "text/plain": [
       "   id                   name\n",
       "0   0         All Categories\n",
       "1  13  RealEstate.com.au [H]"
      ]
     },
     "execution_count": 51,
     "metadata": {},
     "output_type": "execute_result"
    }
   ],
   "source": [
    "# Work Block 1\n",
    "\n",
    "xml_str = '<?xml version=\"1.0\" encoding=\"utf-8\"?>\\n<response>\\n <head>\\n  <code>\\n   200\\n  </code>\\n </head>\\n <body>\\n  <data id=\"0\" name=\"All Categories\" t=\"2018052600\" tg=\"1\" type=\"category\"/>\\n  <data id=\"13\" name=\"RealEstate.com.au [H]\" t=\"2018052600\" tg=\"1\" type=\"publication\"/>\\n </body>\\n</response>'\n",
    "\n",
    "etree = ET.fromstring(xml_str)\n",
    "dfcols = ['id', 'name']\n",
    "df = pd.DataFrame(columns=dfcols)\n",
    "\n",
    "for i in etree.iter(tag='data'):\n",
    "    df = df.append(\n",
    "        pd.Series([i.get('id'), i.get('name')], index=dfcols),\n",
    "        ignore_index=True)\n",
    "\n",
    "df.head()"
   ]
  },
  {
   "cell_type": "code",
   "execution_count": 48,
   "id": "584d5270",
   "metadata": {},
   "outputs": [
    {
     "data": {
      "text/html": [
       "<div>\n",
       "<style scoped>\n",
       "    .dataframe tbody tr th:only-of-type {\n",
       "        vertical-align: middle;\n",
       "    }\n",
       "\n",
       "    .dataframe tbody tr th {\n",
       "        vertical-align: top;\n",
       "    }\n",
       "\n",
       "    .dataframe thead th {\n",
       "        text-align: right;\n",
       "    }\n",
       "</style>\n",
       "<table border=\"1\" class=\"dataframe\">\n",
       "  <thead>\n",
       "    <tr style=\"text-align: right;\">\n",
       "      <th></th>\n",
       "      <th>Id</th>\n",
       "      <th>TagName</th>\n",
       "      <th>Count</th>\n",
       "    </tr>\n",
       "  </thead>\n",
       "  <tbody>\n",
       "    <tr>\n",
       "      <th>0</th>\n",
       "      <td>1</td>\n",
       "      <td>bayesian</td>\n",
       "      <td>4699</td>\n",
       "    </tr>\n",
       "    <tr>\n",
       "      <th>1</th>\n",
       "      <td>2</td>\n",
       "      <td>prior</td>\n",
       "      <td>598</td>\n",
       "    </tr>\n",
       "    <tr>\n",
       "      <th>2</th>\n",
       "      <td>3</td>\n",
       "      <td>elicitation</td>\n",
       "      <td>10</td>\n",
       "    </tr>\n",
       "    <tr>\n",
       "      <th>3</th>\n",
       "      <td>5</td>\n",
       "      <td>open-source</td>\n",
       "      <td>16</td>\n",
       "    </tr>\n",
       "  </tbody>\n",
       "</table>\n",
       "</div>"
      ],
      "text/plain": [
       "  Id      TagName Count\n",
       "0  1     bayesian  4699\n",
       "1  2        prior   598\n",
       "2  3  elicitation    10\n",
       "3  5  open-source    16"
      ]
     },
     "execution_count": 48,
     "metadata": {},
     "output_type": "execute_result"
    }
   ],
   "source": [
    "# Work Block 2\n",
    "\n",
    "root = ET.parse('test.xml').getroot()\n",
    "\n",
    "tags = {\"tags\":[]}\n",
    "for elem in root:\n",
    "    tag = {}\n",
    "    tag[\"Id\"] = elem.attrib['Id']\n",
    "    tag[\"TagName\"] = elem.attrib['TagName']\n",
    "    tag[\"Count\"] = elem.attrib['Count']\n",
    "    tags[\"tags\"]. append(tag)\n",
    "\n",
    "df_users = pd.DataFrame(tags[\"tags\"])\n",
    "df_users.head()"
   ]
  },
  {
   "cell_type": "code",
   "execution_count": null,
   "id": "32b8d291",
   "metadata": {},
   "outputs": [],
   "source": []
  },
  {
   "cell_type": "code",
   "execution_count": null,
   "id": "126e58d6",
   "metadata": {},
   "outputs": [],
   "source": []
  }
 ],
 "metadata": {
  "kernelspec": {
   "display_name": "Python 3 (ipykernel)",
   "language": "python",
   "name": "python3"
  },
  "language_info": {
   "codemirror_mode": {
    "name": "ipython",
    "version": 3
   },
   "file_extension": ".py",
   "mimetype": "text/x-python",
   "name": "python",
   "nbconvert_exporter": "python",
   "pygments_lexer": "ipython3",
   "version": "3.9.6"
  }
 },
 "nbformat": 4,
 "nbformat_minor": 5
}
